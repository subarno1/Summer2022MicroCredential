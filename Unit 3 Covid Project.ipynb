{
  "nbformat": 4,
  "nbformat_minor": 0,
  "metadata": {
    "colab": {
      "name": "Copy of COVID19_DATA_ANALYSIS.ipynb",
      "provenance": [],
      "collapsed_sections": [],
      "include_colab_link": true
    },
    "kernelspec": {
      "name": "python3",
      "display_name": "Python 3"
    }
  },
  "cells": [
    {
      "cell_type": "markdown",
      "metadata": {
        "id": "view-in-github",
        "colab_type": "text"
      },
      "source": [
        "<a href=\"https://colab.research.google.com/github/subarno1/python/blob/main/Unit%203%20Covid%20Project.ipynb\" target=\"_parent\"><img src=\"https://colab.research.google.com/assets/colab-badge.svg\" alt=\"Open In Colab\"/></a>"
      ]
    },
    {
      "cell_type": "markdown",
      "metadata": {
        "id": "9jvXpX2bbIFF"
      },
      "source": [
        "# COVID 19 Data Analysis"
      ]
    },
    {
      "cell_type": "code",
      "source": [
        ""
      ],
      "metadata": {
        "id": "rvEoM-vBv2XJ"
      },
      "execution_count": null,
      "outputs": []
    },
    {
      "cell_type": "markdown",
      "metadata": {
        "id": "ji_HknaobZJh"
      },
      "source": [
        "# Task 1 : Environment Set up"
      ]
    },
    {
      "cell_type": "markdown",
      "metadata": {
        "id": "bNjD4CJ9aS2y"
      },
      "source": [
        ""
      ]
    },
    {
      "cell_type": "markdown",
      "metadata": {
        "id": "q2y0bY0XbhNZ"
      },
      "source": [
        "Import all required libraries that are needed for data analysis"
      ]
    },
    {
      "cell_type": "code",
      "metadata": {
        "id": "k2f9bX3aiTDP"
      },
      "source": [
        "import pandas as pd\n",
        "import numpy as np\n",
        "import matplotlib.pyplot as plt\n",
        "from matplotlib import style \n",
        "%matplotlib inline\n",
        "import seaborn as sns"
      ],
      "execution_count": null,
      "outputs": []
    },
    {
      "cell_type": "markdown",
      "metadata": {
        "id": "vgt8s61dbueM"
      },
      "source": [
        "# Task 2 :  Data Collection"
      ]
    },
    {
      "cell_type": "markdown",
      "metadata": {
        "id": "CEc5pqrkbxcX"
      },
      "source": [
        "Use nytimes github repository as a data source to collect the covid 19 data in real time and ingest it into colab notebook for data anlysis purpose"
      ]
    },
    {
      "cell_type": "markdown",
      "source": [
        ""
      ],
      "metadata": {
        "id": "fqotIYIbIG1-"
      }
    },
    {
      "cell_type": "code",
      "metadata": {
        "id": "vgw9nO9Hm_SB"
      },
      "source": [
        "df = pd.read_csv('https://raw.githubusercontent.com/nytimes/covid-19-data/master/us-states.csv')"
      ],
      "execution_count": null,
      "outputs": []
    },
    {
      "cell_type": "code",
      "metadata": {
        "id": "FEG9n2sI0Yxu",
        "colab": {
          "base_uri": "https://localhost:8080/",
          "height": 206
        },
        "outputId": "c6e13283-9c54-47b2-9baa-ec6c6cc552e8"
      },
      "source": [
        "df.head()"
      ],
      "execution_count": null,
      "outputs": [
        {
          "output_type": "execute_result",
          "data": {
            "text/plain": [
              "         date       state  fips  cases  deaths\n",
              "0  2020-01-21  Washington    53      1       0\n",
              "1  2020-01-22  Washington    53      1       0\n",
              "2  2020-01-23  Washington    53      1       0\n",
              "3  2020-01-24    Illinois    17      1       0\n",
              "4  2020-01-24  Washington    53      1       0"
            ],
            "text/html": [
              "\n",
              "  <div id=\"df-fc100d2e-0168-4bfb-b392-c556555d1486\">\n",
              "    <div class=\"colab-df-container\">\n",
              "      <div>\n",
              "<style scoped>\n",
              "    .dataframe tbody tr th:only-of-type {\n",
              "        vertical-align: middle;\n",
              "    }\n",
              "\n",
              "    .dataframe tbody tr th {\n",
              "        vertical-align: top;\n",
              "    }\n",
              "\n",
              "    .dataframe thead th {\n",
              "        text-align: right;\n",
              "    }\n",
              "</style>\n",
              "<table border=\"1\" class=\"dataframe\">\n",
              "  <thead>\n",
              "    <tr style=\"text-align: right;\">\n",
              "      <th></th>\n",
              "      <th>date</th>\n",
              "      <th>state</th>\n",
              "      <th>fips</th>\n",
              "      <th>cases</th>\n",
              "      <th>deaths</th>\n",
              "    </tr>\n",
              "  </thead>\n",
              "  <tbody>\n",
              "    <tr>\n",
              "      <th>0</th>\n",
              "      <td>2020-01-21</td>\n",
              "      <td>Washington</td>\n",
              "      <td>53</td>\n",
              "      <td>1</td>\n",
              "      <td>0</td>\n",
              "    </tr>\n",
              "    <tr>\n",
              "      <th>1</th>\n",
              "      <td>2020-01-22</td>\n",
              "      <td>Washington</td>\n",
              "      <td>53</td>\n",
              "      <td>1</td>\n",
              "      <td>0</td>\n",
              "    </tr>\n",
              "    <tr>\n",
              "      <th>2</th>\n",
              "      <td>2020-01-23</td>\n",
              "      <td>Washington</td>\n",
              "      <td>53</td>\n",
              "      <td>1</td>\n",
              "      <td>0</td>\n",
              "    </tr>\n",
              "    <tr>\n",
              "      <th>3</th>\n",
              "      <td>2020-01-24</td>\n",
              "      <td>Illinois</td>\n",
              "      <td>17</td>\n",
              "      <td>1</td>\n",
              "      <td>0</td>\n",
              "    </tr>\n",
              "    <tr>\n",
              "      <th>4</th>\n",
              "      <td>2020-01-24</td>\n",
              "      <td>Washington</td>\n",
              "      <td>53</td>\n",
              "      <td>1</td>\n",
              "      <td>0</td>\n",
              "    </tr>\n",
              "  </tbody>\n",
              "</table>\n",
              "</div>\n",
              "      <button class=\"colab-df-convert\" onclick=\"convertToInteractive('df-fc100d2e-0168-4bfb-b392-c556555d1486')\"\n",
              "              title=\"Convert this dataframe to an interactive table.\"\n",
              "              style=\"display:none;\">\n",
              "        \n",
              "  <svg xmlns=\"http://www.w3.org/2000/svg\" height=\"24px\"viewBox=\"0 0 24 24\"\n",
              "       width=\"24px\">\n",
              "    <path d=\"M0 0h24v24H0V0z\" fill=\"none\"/>\n",
              "    <path d=\"M18.56 5.44l.94 2.06.94-2.06 2.06-.94-2.06-.94-.94-2.06-.94 2.06-2.06.94zm-11 1L8.5 8.5l.94-2.06 2.06-.94-2.06-.94L8.5 2.5l-.94 2.06-2.06.94zm10 10l.94 2.06.94-2.06 2.06-.94-2.06-.94-.94-2.06-.94 2.06-2.06.94z\"/><path d=\"M17.41 7.96l-1.37-1.37c-.4-.4-.92-.59-1.43-.59-.52 0-1.04.2-1.43.59L10.3 9.45l-7.72 7.72c-.78.78-.78 2.05 0 2.83L4 21.41c.39.39.9.59 1.41.59.51 0 1.02-.2 1.41-.59l7.78-7.78 2.81-2.81c.8-.78.8-2.07 0-2.86zM5.41 20L4 18.59l7.72-7.72 1.47 1.35L5.41 20z\"/>\n",
              "  </svg>\n",
              "      </button>\n",
              "      \n",
              "  <style>\n",
              "    .colab-df-container {\n",
              "      display:flex;\n",
              "      flex-wrap:wrap;\n",
              "      gap: 12px;\n",
              "    }\n",
              "\n",
              "    .colab-df-convert {\n",
              "      background-color: #E8F0FE;\n",
              "      border: none;\n",
              "      border-radius: 50%;\n",
              "      cursor: pointer;\n",
              "      display: none;\n",
              "      fill: #1967D2;\n",
              "      height: 32px;\n",
              "      padding: 0 0 0 0;\n",
              "      width: 32px;\n",
              "    }\n",
              "\n",
              "    .colab-df-convert:hover {\n",
              "      background-color: #E2EBFA;\n",
              "      box-shadow: 0px 1px 2px rgba(60, 64, 67, 0.3), 0px 1px 3px 1px rgba(60, 64, 67, 0.15);\n",
              "      fill: #174EA6;\n",
              "    }\n",
              "\n",
              "    [theme=dark] .colab-df-convert {\n",
              "      background-color: #3B4455;\n",
              "      fill: #D2E3FC;\n",
              "    }\n",
              "\n",
              "    [theme=dark] .colab-df-convert:hover {\n",
              "      background-color: #434B5C;\n",
              "      box-shadow: 0px 1px 3px 1px rgba(0, 0, 0, 0.15);\n",
              "      filter: drop-shadow(0px 1px 2px rgba(0, 0, 0, 0.3));\n",
              "      fill: #FFFFFF;\n",
              "    }\n",
              "  </style>\n",
              "\n",
              "      <script>\n",
              "        const buttonEl =\n",
              "          document.querySelector('#df-fc100d2e-0168-4bfb-b392-c556555d1486 button.colab-df-convert');\n",
              "        buttonEl.style.display =\n",
              "          google.colab.kernel.accessAllowed ? 'block' : 'none';\n",
              "\n",
              "        async function convertToInteractive(key) {\n",
              "          const element = document.querySelector('#df-fc100d2e-0168-4bfb-b392-c556555d1486');\n",
              "          const dataTable =\n",
              "            await google.colab.kernel.invokeFunction('convertToInteractive',\n",
              "                                                     [key], {});\n",
              "          if (!dataTable) return;\n",
              "\n",
              "          const docLinkHtml = 'Like what you see? Visit the ' +\n",
              "            '<a target=\"_blank\" href=https://colab.research.google.com/notebooks/data_table.ipynb>data table notebook</a>'\n",
              "            + ' to learn more about interactive tables.';\n",
              "          element.innerHTML = '';\n",
              "          dataTable['output_type'] = 'display_data';\n",
              "          await google.colab.output.renderOutput(dataTable, element);\n",
              "          const docLink = document.createElement('div');\n",
              "          docLink.innerHTML = docLinkHtml;\n",
              "          element.appendChild(docLink);\n",
              "        }\n",
              "      </script>\n",
              "    </div>\n",
              "  </div>\n",
              "  "
            ]
          },
          "metadata": {},
          "execution_count": 3
        }
      ]
    },
    {
      "cell_type": "code",
      "source": [
        "type(df)"
      ],
      "metadata": {
        "colab": {
          "base_uri": "https://localhost:8080/"
        },
        "id": "BL-Gc0tBhctG",
        "outputId": "65b8fa9a-3baf-49a5-e928-340cf001d953"
      },
      "execution_count": null,
      "outputs": [
        {
          "output_type": "execute_result",
          "data": {
            "text/plain": [
              "pandas.core.frame.DataFrame"
            ]
          },
          "metadata": {},
          "execution_count": 4
        }
      ]
    },
    {
      "cell_type": "code",
      "metadata": {
        "id": "ap0owuu30bLe",
        "colab": {
          "base_uri": "https://localhost:8080/"
        },
        "outputId": "b70a048e-d572-4e2c-d001-6b4eca6b3bc4"
      },
      "source": [
        "df.shape"
      ],
      "execution_count": null,
      "outputs": [
        {
          "output_type": "execute_result",
          "data": {
            "text/plain": [
              "(48838, 5)"
            ]
          },
          "metadata": {},
          "execution_count": 5
        }
      ]
    },
    {
      "cell_type": "code",
      "metadata": {
        "id": "zZdaTiUk0fqE",
        "colab": {
          "base_uri": "https://localhost:8080/"
        },
        "outputId": "8747662a-5302-451b-8713-58d99ba537d1"
      },
      "source": [
        "df.columns"
      ],
      "execution_count": null,
      "outputs": [
        {
          "output_type": "execute_result",
          "data": {
            "text/plain": [
              "Index(['date', 'state', 'fips', 'cases', 'deaths'], dtype='object')"
            ]
          },
          "metadata": {},
          "execution_count": 6
        }
      ]
    },
    {
      "cell_type": "code",
      "source": [
        "plt.scatter(df['state'],df['deaths'])\n",
        "plt.grid()\n",
        "plt.xlabel(\"State\")\n",
        "plt.ylabel(\"Deaths\")\n"
      ],
      "metadata": {
        "colab": {
          "base_uri": "https://localhost:8080/",
          "height": 296
        },
        "id": "dXoKGSNFe-Jh",
        "outputId": "f18416b6-2ad4-46a6-bfee-0764587b1439"
      },
      "execution_count": null,
      "outputs": [
        {
          "output_type": "execute_result",
          "data": {
            "text/plain": [
              "Text(0, 0.5, 'Deaths')"
            ]
          },
          "metadata": {},
          "execution_count": 7
        },
        {
          "output_type": "display_data",
          "data": {
            "text/plain": [
              "<Figure size 432x288 with 1 Axes>"
            ],
            "image/png": "[encoded data removed]"
          },
          "metadata": {
            "needs_background": "light"
          }
        }
      ]
    },
    {
      "cell_type": "code",
      "source": [
        "plt.scatter(df['cases'],df['deaths'])\n",
        "plt.grid()\n",
        "plt.xlabel(\"Cases\")\n",
        "plt.ylabel(\"Deaths\")"
      ],
      "metadata": {
        "colab": {
          "base_uri": "https://localhost:8080/",
          "height": 296
        },
        "id": "TdooqAAbk6-A",
        "outputId": "f4d42ef0-e82e-45a6-8b13-cd2afb23b74c"
      },
      "execution_count": null,
      "outputs": [
        {
          "output_type": "execute_result",
          "data": {
            "text/plain": [
              "Text(0, 0.5, 'Deaths')"
            ]
          },
          "metadata": {},
          "execution_count": 8
        },
        {
          "output_type": "display_data",
          "data": {
            "text/plain": [
              "<Figure size 432x288 with 1 Axes>"
            ],
            "image/png": "[encoded data removed]"
          },
          "metadata": {
            "needs_background": "light"
          }
        }
      ]
    },
    {
      "cell_type": "code",
      "source": [
        "df.plot(x='cases', y= 'deaths', kind = 'hist', bins=10)"
      ],
      "metadata": {
        "colab": {
          "base_uri": "https://localhost:8080/",
          "height": 285
        },
        "id": "4tXKusJRmVMH",
        "outputId": "2618f409-7817-49d1-dac4-64bd32bab086"
      },
      "execution_count": null,
      "outputs": [
        {
          "output_type": "execute_result",
          "data": {
            "text/plain": [
              "<matplotlib.axes._subplots.AxesSubplot at 0x7ff714583cd0>"
            ]
          },
          "metadata": {},
          "execution_count": 9
        },
        {
          "output_type": "display_data",
          "data": {
            "text/plain": [
              "<Figure size 432x288 with 1 Axes>"
            ],
            "image/png": "[encoded data removed]"
          },
          "metadata": {
            "needs_background": "light"
          }
        }
      ]
    },
    {
      "cell_type": "markdown",
      "metadata": {
        "id": "dXToiyPccf4h"
      },
      "source": [
        "# Task 3 : Data Wrangling and EDA (Exploratory Data Analysis)"
      ]
    },
    {
      "cell_type": "markdown",
      "metadata": {
        "id": "XrywUhma1LD6"
      },
      "source": [
        "Analyzing New York state data for Covid 19"
      ]
    },
    {
      "cell_type": "code",
      "metadata": {
        "id": "-IXvRlig1Qjq"
      },
      "source": [
        "ny_df = df[df['state']=='New York']"
      ],
      "execution_count": null,
      "outputs": []
    },
    {
      "cell_type": "code",
      "metadata": {
        "id": "vAPsO4Yq1yAj",
        "colab": {
          "base_uri": "https://localhost:8080/",
          "height": 206
        },
        "outputId": "b4836057-a153-4893-a3a2-e8e3a8f5cc13"
      },
      "source": [
        "ny_df.head()"
      ],
      "execution_count": null,
      "outputs": [
        {
          "output_type": "execute_result",
          "data": {
            "text/plain": [
              "           date     state  fips  cases  deaths\n",
              "246  2020-03-01  New York    36      1       0\n",
              "261  2020-03-02  New York    36      1       0\n",
              "276  2020-03-03  New York    36      2       0\n",
              "293  2020-03-04  New York    36     11       0\n",
              "313  2020-03-05  New York    36     22       0"
            ],
            "text/html": [
              "\n",
              "  <div id=\"df-85ba4abf-661c-4c5a-b8ac-90d804040bec\">\n",
              "    <div class=\"colab-df-container\">\n",
              "      <div>\n",
              "<style scoped>\n",
              "    .dataframe tbody tr th:only-of-type {\n",
              "        vertical-align: middle;\n",
              "    }\n",
              "\n",
              "    .dataframe tbody tr th {\n",
              "        vertical-align: top;\n",
              "    }\n",
              "\n",
              "    .dataframe thead th {\n",
              "        text-align: right;\n",
              "    }\n",
              "</style>\n",
              "<table border=\"1\" class=\"dataframe\">\n",
              "  <thead>\n",
              "    <tr style=\"text-align: right;\">\n",
              "      <th></th>\n",
              "      <th>date</th>\n",
              "      <th>state</th>\n",
              "      <th>fips</th>\n",
              "      <th>cases</th>\n",
              "      <th>deaths</th>\n",
              "    </tr>\n",
              "  </thead>\n",
              "  <tbody>\n",
              "    <tr>\n",
              "      <th>246</th>\n",
              "      <td>2020-03-01</td>\n",
              "      <td>New York</td>\n",
              "      <td>36</td>\n",
              "      <td>1</td>\n",
              "      <td>0</td>\n",
              "    </tr>\n",
              "    <tr>\n",
              "      <th>261</th>\n",
              "      <td>2020-03-02</td>\n",
              "      <td>New York</td>\n",
              "      <td>36</td>\n",
              "      <td>1</td>\n",
              "      <td>0</td>\n",
              "    </tr>\n",
              "    <tr>\n",
              "      <th>276</th>\n",
              "      <td>2020-03-03</td>\n",
              "      <td>New York</td>\n",
              "      <td>36</td>\n",
              "      <td>2</td>\n",
              "      <td>0</td>\n",
              "    </tr>\n",
              "    <tr>\n",
              "      <th>293</th>\n",
              "      <td>2020-03-04</td>\n",
              "      <td>New York</td>\n",
              "      <td>36</td>\n",
              "      <td>11</td>\n",
              "      <td>0</td>\n",
              "    </tr>\n",
              "    <tr>\n",
              "      <th>313</th>\n",
              "      <td>2020-03-05</td>\n",
              "      <td>New York</td>\n",
              "      <td>36</td>\n",
              "      <td>22</td>\n",
              "      <td>0</td>\n",
              "    </tr>\n",
              "  </tbody>\n",
              "</table>\n",
              "</div>\n",
              "      <button class=\"colab-df-convert\" onclick=\"convertToInteractive('df-85ba4abf-661c-4c5a-b8ac-90d804040bec')\"\n",
              "              title=\"Convert this dataframe to an interactive table.\"\n",
              "              style=\"display:none;\">\n",
              "        \n",
              "  <svg xmlns=\"http://www.w3.org/2000/svg\" height=\"24px\"viewBox=\"0 0 24 24\"\n",
              "       width=\"24px\">\n",
              "    <path d=\"M0 0h24v24H0V0z\" fill=\"none\"/>\n",
              "    <path d=\"M18.56 5.44l.94 2.06.94-2.06 2.06-.94-2.06-.94-.94-2.06-.94 2.06-2.06.94zm-11 1L8.5 8.5l.94-2.06 2.06-.94-2.06-.94L8.5 2.5l-.94 2.06-2.06.94zm10 10l.94 2.06.94-2.06 2.06-.94-2.06-.94-.94-2.06-.94 2.06-2.06.94z\"/><path d=\"M17.41 7.96l-1.37-1.37c-.4-.4-.92-.59-1.43-.59-.52 0-1.04.2-1.43.59L10.3 9.45l-7.72 7.72c-.78.78-.78 2.05 0 2.83L4 21.41c.39.39.9.59 1.41.59.51 0 1.02-.2 1.41-.59l7.78-7.78 2.81-2.81c.8-.78.8-2.07 0-2.86zM5.41 20L4 18.59l7.72-7.72 1.47 1.35L5.41 20z\"/>\n",
              "  </svg>\n",
              "      </button>\n",
              "      \n",
              "  <style>\n",
              "    .colab-df-container {\n",
              "      display:flex;\n",
              "      flex-wrap:wrap;\n",
              "      gap: 12px;\n",
              "    }\n",
              "\n",
              "    .colab-df-convert {\n",
              "      background-color: #E8F0FE;\n",
              "      border: none;\n",
              "      border-radius: 50%;\n",
              "      cursor: pointer;\n",
              "      display: none;\n",
              "      fill: #1967D2;\n",
              "      height: 32px;\n",
              "      padding: 0 0 0 0;\n",
              "      width: 32px;\n",
              "    }\n",
              "\n",
              "    .colab-df-convert:hover {\n",
              "      background-color: #E2EBFA;\n",
              "      box-shadow: 0px 1px 2px rgba(60, 64, 67, 0.3), 0px 1px 3px 1px rgba(60, 64, 67, 0.15);\n",
              "      fill: #174EA6;\n",
              "    }\n",
              "\n",
              "    [theme=dark] .colab-df-convert {\n",
              "      background-color: #3B4455;\n",
              "      fill: #D2E3FC;\n",
              "    }\n",
              "\n",
              "    [theme=dark] .colab-df-convert:hover {\n",
              "      background-color: #434B5C;\n",
              "      box-shadow: 0px 1px 3px 1px rgba(0, 0, 0, 0.15);\n",
              "      filter: drop-shadow(0px 1px 2px rgba(0, 0, 0, 0.3));\n",
              "      fill: #FFFFFF;\n",
              "    }\n",
              "  </style>\n",
              "\n",
              "      <script>\n",
              "        const buttonEl =\n",
              "          document.querySelector('#df-85ba4abf-661c-4c5a-b8ac-90d804040bec button.colab-df-convert');\n",
              "        buttonEl.style.display =\n",
              "          google.colab.kernel.accessAllowed ? 'block' : 'none';\n",
              "\n",
              "        async function convertToInteractive(key) {\n",
              "          const element = document.querySelector('#df-85ba4abf-661c-4c5a-b8ac-90d804040bec');\n",
              "          const dataTable =\n",
              "            await google.colab.kernel.invokeFunction('convertToInteractive',\n",
              "                                                     [key], {});\n",
              "          if (!dataTable) return;\n",
              "\n",
              "          const docLinkHtml = 'Like what you see? Visit the ' +\n",
              "            '<a target=\"_blank\" href=https://colab.research.google.com/notebooks/data_table.ipynb>data table notebook</a>'\n",
              "            + ' to learn more about interactive tables.';\n",
              "          element.innerHTML = '';\n",
              "          dataTable['output_type'] = 'display_data';\n",
              "          await google.colab.output.renderOutput(dataTable, element);\n",
              "          const docLink = document.createElement('div');\n",
              "          docLink.innerHTML = docLinkHtml;\n",
              "          element.appendChild(docLink);\n",
              "        }\n",
              "      </script>\n",
              "    </div>\n",
              "  </div>\n",
              "  "
            ]
          },
          "metadata": {},
          "execution_count": 11
        }
      ]
    },
    {
      "cell_type": "code",
      "metadata": {
        "id": "XNuZqUlI1096",
        "colab": {
          "base_uri": "https://localhost:8080/"
        },
        "outputId": "0ff47c1d-367b-471b-d4a8-60886ab767cf"
      },
      "source": [
        "ny_df.shape"
      ],
      "execution_count": null,
      "outputs": [
        {
          "output_type": "execute_result",
          "data": {
            "text/plain": [
              "(884, 5)"
            ]
          },
          "metadata": {},
          "execution_count": 12
        }
      ]
    },
    {
      "cell_type": "code",
      "metadata": {
        "id": "z7sGUFdO2CAo",
        "colab": {
          "base_uri": "https://localhost:8080/",
          "height": 206
        },
        "outputId": "fb9a2168-cdab-407a-c4f7-a24c5f4b0960"
      },
      "source": [
        "ny_df.tail()"
      ],
      "execution_count": null,
      "outputs": [
        {
          "output_type": "execute_result",
          "data": {
            "text/plain": [
              "             date     state  fips    cases  deaths\n",
              "48592  2022-07-28  New York    36  5793691   69564\n",
              "48648  2022-07-29  New York    36  5796900   69576\n",
              "48704  2022-07-30  New York    36  5799922   69576\n",
              "48760  2022-07-31  New York    36  5802579   69576\n",
              "48816  2022-08-01  New York    36  5821036   69628"
            ],
            "text/html": [
              "\n",
              "  <div id=\"df-61c4834b-74a2-4fc3-b45e-f3d9170166cc\">\n",
              "    <div class=\"colab-df-container\">\n",
              "      <div>\n",
              "<style scoped>\n",
              "    .dataframe tbody tr th:only-of-type {\n",
              "        vertical-align: middle;\n",
              "    }\n",
              "\n",
              "    .dataframe tbody tr th {\n",
              "        vertical-align: top;\n",
              "    }\n",
              "\n",
              "    .dataframe thead th {\n",
              "        text-align: right;\n",
              "    }\n",
              "</style>\n",
              "<table border=\"1\" class=\"dataframe\">\n",
              "  <thead>\n",
              "    <tr style=\"text-align: right;\">\n",
              "      <th></th>\n",
              "      <th>date</th>\n",
              "      <th>state</th>\n",
              "      <th>fips</th>\n",
              "      <th>cases</th>\n",
              "      <th>deaths</th>\n",
              "    </tr>\n",
              "  </thead>\n",
              "  <tbody>\n",
              "    <tr>\n",
              "      <th>48592</th>\n",
              "      <td>2022-07-28</td>\n",
              "      <td>New York</td>\n",
              "      <td>36</td>\n",
              "      <td>5793691</td>\n",
              "      <td>69564</td>\n",
              "    </tr>\n",
              "    <tr>\n",
              "      <th>48648</th>\n",
              "      <td>2022-07-29</td>\n",
              "      <td>New York</td>\n",
              "      <td>36</td>\n",
              "      <td>5796900</td>\n",
              "      <td>69576</td>\n",
              "    </tr>\n",
              "    <tr>\n",
              "      <th>48704</th>\n",
              "      <td>2022-07-30</td>\n",
              "      <td>New York</td>\n",
              "      <td>36</td>\n",
              "      <td>5799922</td>\n",
              "      <td>69576</td>\n",
              "    </tr>\n",
              "    <tr>\n",
              "      <th>48760</th>\n",
              "      <td>2022-07-31</td>\n",
              "      <td>New York</td>\n",
              "      <td>36</td>\n",
              "      <td>5802579</td>\n",
              "      <td>69576</td>\n",
              "    </tr>\n",
              "    <tr>\n",
              "      <th>48816</th>\n",
              "      <td>2022-08-01</td>\n",
              "      <td>New York</td>\n",
              "      <td>36</td>\n",
              "      <td>5821036</td>\n",
              "      <td>69628</td>\n",
              "    </tr>\n",
              "  </tbody>\n",
              "</table>\n",
              "</div>\n",
              "      <button class=\"colab-df-convert\" onclick=\"convertToInteractive('df-61c4834b-74a2-4fc3-b45e-f3d9170166cc')\"\n",
              "              title=\"Convert this dataframe to an interactive table.\"\n",
              "              style=\"display:none;\">\n",
              "        \n",
              "  <svg xmlns=\"http://www.w3.org/2000/svg\" height=\"24px\"viewBox=\"0 0 24 24\"\n",
              "       width=\"24px\">\n",
              "    <path d=\"M0 0h24v24H0V0z\" fill=\"none\"/>\n",
              "    <path d=\"M18.56 5.44l.94 2.06.94-2.06 2.06-.94-2.06-.94-.94-2.06-.94 2.06-2.06.94zm-11 1L8.5 8.5l.94-2.06 2.06-.94-2.06-.94L8.5 2.5l-.94 2.06-2.06.94zm10 10l.94 2.06.94-2.06 2.06-.94-2.06-.94-.94-2.06-.94 2.06-2.06.94z\"/><path d=\"M17.41 7.96l-1.37-1.37c-.4-.4-.92-.59-1.43-.59-.52 0-1.04.2-1.43.59L10.3 9.45l-7.72 7.72c-.78.78-.78 2.05 0 2.83L4 21.41c.39.39.9.59 1.41.59.51 0 1.02-.2 1.41-.59l7.78-7.78 2.81-2.81c.8-.78.8-2.07 0-2.86zM5.41 20L4 18.59l7.72-7.72 1.47 1.35L5.41 20z\"/>\n",
              "  </svg>\n",
              "      </button>\n",
              "      \n",
              "  <style>\n",
              "    .colab-df-container {\n",
              "      display:flex;\n",
              "      flex-wrap:wrap;\n",
              "      gap: 12px;\n",
              "    }\n",
              "\n",
              "    .colab-df-convert {\n",
              "      background-color: #E8F0FE;\n",
              "      border: none;\n",
              "      border-radius: 50%;\n",
              "      cursor: pointer;\n",
              "      display: none;\n",
              "      fill: #1967D2;\n",
              "      height: 32px;\n",
              "      padding: 0 0 0 0;\n",
              "      width: 32px;\n",
              "    }\n",
              "\n",
              "    .colab-df-convert:hover {\n",
              "      background-color: #E2EBFA;\n",
              "      box-shadow: 0px 1px 2px rgba(60, 64, 67, 0.3), 0px 1px 3px 1px rgba(60, 64, 67, 0.15);\n",
              "      fill: #174EA6;\n",
              "    }\n",
              "\n",
              "    [theme=dark] .colab-df-convert {\n",
              "      background-color: #3B4455;\n",
              "      fill: #D2E3FC;\n",
              "    }\n",
              "\n",
              "    [theme=dark] .colab-df-convert:hover {\n",
              "      background-color: #434B5C;\n",
              "      box-shadow: 0px 1px 3px 1px rgba(0, 0, 0, 0.15);\n",
              "      filter: drop-shadow(0px 1px 2px rgba(0, 0, 0, 0.3));\n",
              "      fill: #FFFFFF;\n",
              "    }\n",
              "  </style>\n",
              "\n",
              "      <script>\n",
              "        const buttonEl =\n",
              "          document.querySelector('#df-61c4834b-74a2-4fc3-b45e-f3d9170166cc button.colab-df-convert');\n",
              "        buttonEl.style.display =\n",
              "          google.colab.kernel.accessAllowed ? 'block' : 'none';\n",
              "\n",
              "        async function convertToInteractive(key) {\n",
              "          const element = document.querySelector('#df-61c4834b-74a2-4fc3-b45e-f3d9170166cc');\n",
              "          const dataTable =\n",
              "            await google.colab.kernel.invokeFunction('convertToInteractive',\n",
              "                                                     [key], {});\n",
              "          if (!dataTable) return;\n",
              "\n",
              "          const docLinkHtml = 'Like what you see? Visit the ' +\n",
              "            '<a target=\"_blank\" href=https://colab.research.google.com/notebooks/data_table.ipynb>data table notebook</a>'\n",
              "            + ' to learn more about interactive tables.';\n",
              "          element.innerHTML = '';\n",
              "          dataTable['output_type'] = 'display_data';\n",
              "          await google.colab.output.renderOutput(dataTable, element);\n",
              "          const docLink = document.createElement('div');\n",
              "          docLink.innerHTML = docLinkHtml;\n",
              "          element.appendChild(docLink);\n",
              "        }\n",
              "      </script>\n",
              "    </div>\n",
              "  </div>\n",
              "  "
            ]
          },
          "metadata": {},
          "execution_count": 13
        }
      ]
    },
    {
      "cell_type": "code",
      "metadata": {
        "id": "FQxfk_yn2KIW",
        "colab": {
          "base_uri": "https://localhost:8080/",
          "height": 206
        },
        "outputId": "9a209f67-4864-468e-9a28-47ddb7c7a73d"
      },
      "source": [
        "#first death in NY\n",
        "first_ny_death = ny_df[ny_df['deaths']!=0]\n",
        "first_ny_death.head()"
      ],
      "execution_count": null,
      "outputs": [
        {
          "output_type": "execute_result",
          "data": {
            "text/plain": [
              "           date     state  fips  cases  deaths\n",
              "669  2020-03-14  New York    36    610       2\n",
              "722  2020-03-15  New York    36    732       6\n",
              "775  2020-03-16  New York    36    950      10\n",
              "828  2020-03-17  New York    36   1375      18\n",
              "882  2020-03-18  New York    36   2387      32"
            ],
            "text/html": [
              "\n",
              "  <div id=\"df-b617ebdb-37da-4008-9c18-a900b37a5142\">\n",
              "    <div class=\"colab-df-container\">\n",
              "      <div>\n",
              "<style scoped>\n",
              "    .dataframe tbody tr th:only-of-type {\n",
              "        vertical-align: middle;\n",
              "    }\n",
              "\n",
              "    .dataframe tbody tr th {\n",
              "        vertical-align: top;\n",
              "    }\n",
              "\n",
              "    .dataframe thead th {\n",
              "        text-align: right;\n",
              "    }\n",
              "</style>\n",
              "<table border=\"1\" class=\"dataframe\">\n",
              "  <thead>\n",
              "    <tr style=\"text-align: right;\">\n",
              "      <th></th>\n",
              "      <th>date</th>\n",
              "      <th>state</th>\n",
              "      <th>fips</th>\n",
              "      <th>cases</th>\n",
              "      <th>deaths</th>\n",
              "    </tr>\n",
              "  </thead>\n",
              "  <tbody>\n",
              "    <tr>\n",
              "      <th>669</th>\n",
              "      <td>2020-03-14</td>\n",
              "      <td>New York</td>\n",
              "      <td>36</td>\n",
              "      <td>610</td>\n",
              "      <td>2</td>\n",
              "    </tr>\n",
              "    <tr>\n",
              "      <th>722</th>\n",
              "      <td>2020-03-15</td>\n",
              "      <td>New York</td>\n",
              "      <td>36</td>\n",
              "      <td>732</td>\n",
              "      <td>6</td>\n",
              "    </tr>\n",
              "    <tr>\n",
              "      <th>775</th>\n",
              "      <td>2020-03-16</td>\n",
              "      <td>New York</td>\n",
              "      <td>36</td>\n",
              "      <td>950</td>\n",
              "      <td>10</td>\n",
              "    </tr>\n",
              "    <tr>\n",
              "      <th>828</th>\n",
              "      <td>2020-03-17</td>\n",
              "      <td>New York</td>\n",
              "      <td>36</td>\n",
              "      <td>1375</td>\n",
              "      <td>18</td>\n",
              "    </tr>\n",
              "    <tr>\n",
              "      <th>882</th>\n",
              "      <td>2020-03-18</td>\n",
              "      <td>New York</td>\n",
              "      <td>36</td>\n",
              "      <td>2387</td>\n",
              "      <td>32</td>\n",
              "    </tr>\n",
              "  </tbody>\n",
              "</table>\n",
              "</div>\n",
              "      <button class=\"colab-df-convert\" onclick=\"convertToInteractive('df-b617ebdb-37da-4008-9c18-a900b37a5142')\"\n",
              "              title=\"Convert this dataframe to an interactive table.\"\n",
              "              style=\"display:none;\">\n",
              "        \n",
              "  <svg xmlns=\"http://www.w3.org/2000/svg\" height=\"24px\"viewBox=\"0 0 24 24\"\n",
              "       width=\"24px\">\n",
              "    <path d=\"M0 0h24v24H0V0z\" fill=\"none\"/>\n",
              "    <path d=\"M18.56 5.44l.94 2.06.94-2.06 2.06-.94-2.06-.94-.94-2.06-.94 2.06-2.06.94zm-11 1L8.5 8.5l.94-2.06 2.06-.94-2.06-.94L8.5 2.5l-.94 2.06-2.06.94zm10 10l.94 2.06.94-2.06 2.06-.94-2.06-.94-.94-2.06-.94 2.06-2.06.94z\"/><path d=\"M17.41 7.96l-1.37-1.37c-.4-.4-.92-.59-1.43-.59-.52 0-1.04.2-1.43.59L10.3 9.45l-7.72 7.72c-.78.78-.78 2.05 0 2.83L4 21.41c.39.39.9.59 1.41.59.51 0 1.02-.2 1.41-.59l7.78-7.78 2.81-2.81c.8-.78.8-2.07 0-2.86zM5.41 20L4 18.59l7.72-7.72 1.47 1.35L5.41 20z\"/>\n",
              "  </svg>\n",
              "      </button>\n",
              "      \n",
              "  <style>\n",
              "    .colab-df-container {\n",
              "      display:flex;\n",
              "      flex-wrap:wrap;\n",
              "      gap: 12px;\n",
              "    }\n",
              "\n",
              "    .colab-df-convert {\n",
              "      background-color: #E8F0FE;\n",
              "      border: none;\n",
              "      border-radius: 50%;\n",
              "      cursor: pointer;\n",
              "      display: none;\n",
              "      fill: #1967D2;\n",
              "      height: 32px;\n",
              "      padding: 0 0 0 0;\n",
              "      width: 32px;\n",
              "    }\n",
              "\n",
              "    .colab-df-convert:hover {\n",
              "      background-color: #E2EBFA;\n",
              "      box-shadow: 0px 1px 2px rgba(60, 64, 67, 0.3), 0px 1px 3px 1px rgba(60, 64, 67, 0.15);\n",
              "      fill: #174EA6;\n",
              "    }\n",
              "\n",
              "    [theme=dark] .colab-df-convert {\n",
              "      background-color: #3B4455;\n",
              "      fill: #D2E3FC;\n",
              "    }\n",
              "\n",
              "    [theme=dark] .colab-df-convert:hover {\n",
              "      background-color: #434B5C;\n",
              "      box-shadow: 0px 1px 3px 1px rgba(0, 0, 0, 0.15);\n",
              "      filter: drop-shadow(0px 1px 2px rgba(0, 0, 0, 0.3));\n",
              "      fill: #FFFFFF;\n",
              "    }\n",
              "  </style>\n",
              "\n",
              "      <script>\n",
              "        const buttonEl =\n",
              "          document.querySelector('#df-b617ebdb-37da-4008-9c18-a900b37a5142 button.colab-df-convert');\n",
              "        buttonEl.style.display =\n",
              "          google.colab.kernel.accessAllowed ? 'block' : 'none';\n",
              "\n",
              "        async function convertToInteractive(key) {\n",
              "          const element = document.querySelector('#df-b617ebdb-37da-4008-9c18-a900b37a5142');\n",
              "          const dataTable =\n",
              "            await google.colab.kernel.invokeFunction('convertToInteractive',\n",
              "                                                     [key], {});\n",
              "          if (!dataTable) return;\n",
              "\n",
              "          const docLinkHtml = 'Like what you see? Visit the ' +\n",
              "            '<a target=\"_blank\" href=https://colab.research.google.com/notebooks/data_table.ipynb>data table notebook</a>'\n",
              "            + ' to learn more about interactive tables.';\n",
              "          element.innerHTML = '';\n",
              "          dataTable['output_type'] = 'display_data';\n",
              "          await google.colab.output.renderOutput(dataTable, element);\n",
              "          const docLink = document.createElement('div');\n",
              "          docLink.innerHTML = docLinkHtml;\n",
              "          element.appendChild(docLink);\n",
              "        }\n",
              "      </script>\n",
              "    </div>\n",
              "  </div>\n",
              "  "
            ]
          },
          "metadata": {},
          "execution_count": 14
        }
      ]
    },
    {
      "cell_type": "code",
      "metadata": {
        "id": "dQ-Qbk0e3vUj",
        "colab": {
          "base_uri": "https://localhost:8080/"
        },
        "outputId": "de919661-fee3-4725-ec18-298b4e6e0756"
      },
      "source": [
        "#total number of cases\n",
        "ny_df['cases'].max()"
      ],
      "execution_count": null,
      "outputs": [
        {
          "output_type": "execute_result",
          "data": {
            "text/plain": [
              "5821036"
            ]
          },
          "metadata": {},
          "execution_count": 15
        }
      ]
    },
    {
      "cell_type": "code",
      "metadata": {
        "id": "TNYs0GNm4K5O",
        "colab": {
          "base_uri": "https://localhost:8080/"
        },
        "outputId": "bcedad9a-3687-4bca-b702-c71b6de6fcf2"
      },
      "source": [
        "# not a correct way of calculating total count bcoz data is cumulative\n",
        "ny_df['cases'].sum()"
      ],
      "execution_count": null,
      "outputs": [
        {
          "output_type": "execute_result",
          "data": {
            "text/plain": [
              "1990680884"
            ]
          },
          "metadata": {},
          "execution_count": 16
        }
      ]
    },
    {
      "cell_type": "code",
      "source": [
        "df.hist()"
      ],
      "metadata": {
        "colab": {
          "base_uri": "https://localhost:8080/",
          "height": 368
        },
        "id": "GyWFLOFKpomG",
        "outputId": "147b2846-a1c5-4f77-ed99-663b537d3a41"
      },
      "execution_count": null,
      "outputs": [
        {
          "output_type": "execute_result",
          "data": {
            "text/plain": [
              "array([[<matplotlib.axes._subplots.AxesSubplot object at 0x7ff71454a6d0>,\n",
              "        <matplotlib.axes._subplots.AxesSubplot object at 0x7ff713e8bc50>],\n",
              "       [<matplotlib.axes._subplots.AxesSubplot object at 0x7ff713e4f290>,\n",
              "        <matplotlib.axes._subplots.AxesSubplot object at 0x7ff713e05890>]],\n",
              "      dtype=object)"
            ]
          },
          "metadata": {},
          "execution_count": 17
        },
        {
          "output_type": "display_data",
          "data": {
            "text/plain": [
              "<Figure size 432x288 with 4 Axes>"
            ],
            "image/png": "[encoded data removed]"
          },
          "metadata": {
            "needs_background": "light"
          }
        }
      ]
    },
    {
      "cell_type": "code",
      "source": [
        "df.plot()"
      ],
      "metadata": {
        "colab": {
          "base_uri": "https://localhost:8080/",
          "height": 293
        },
        "id": "_DGB0o5ppxgk",
        "outputId": "53ab97ce-6d17-4bc9-b9b7-6dad670c9ec5"
      },
      "execution_count": null,
      "outputs": [
        {
          "output_type": "execute_result",
          "data": {
            "text/plain": [
              "<matplotlib.axes._subplots.AxesSubplot at 0x7ff713d10b90>"
            ]
          },
          "metadata": {},
          "execution_count": 18
        },
        {
          "output_type": "display_data",
          "data": {
            "text/plain": [
              "<Figure size 432x288 with 1 Axes>"
            ],
            "image/png": "[encoded data removed]"
          },
          "metadata": {
            "needs_background": "light"
          }
        }
      ]
    },
    {
      "cell_type": "code",
      "source": [
        "df.plot(x='cases', y= 'deaths', kind = 'hist', bins=5)"
      ],
      "metadata": {
        "colab": {
          "base_uri": "https://localhost:8080/",
          "height": 282
        },
        "id": "bzeaKKtrnzb-",
        "outputId": "8a5f8bec-693d-4f60-e408-6e3111e1ed63"
      },
      "execution_count": null,
      "outputs": [
        {
          "output_type": "execute_result",
          "data": {
            "text/plain": [
              "<matplotlib.axes._subplots.AxesSubplot at 0x7ff713c9a310>"
            ]
          },
          "metadata": {},
          "execution_count": 19
        },
        {
          "output_type": "display_data",
          "data": {
            "text/plain": [
              "<Figure size 432x288 with 1 Axes>"
            ],
            "image/png": "[encoded data removed]"
          },
          "metadata": {
            "needs_background": "light"
          }
        }
      ]
    },
    {
      "cell_type": "markdown",
      "metadata": {
        "id": "vUbZP5tccvEp"
      },
      "source": [
        "Finding new covid 19 cases on daily basis (new cases added everyday)"
      ]
    },
    {
      "cell_type": "code",
      "metadata": {
        "id": "g-isLW6s4XaJ"
      },
      "source": [
        "#new cases for NY\n",
        "# type(ny_df['cases'])\n",
        "\n",
        "newcase = []\n",
        "previuos_case = 0\n",
        "for index, row in ny_df.iterrows():\n",
        "  current_case = row['cases']\n",
        "  newcase_count = current_case - previuos_case\n",
        "  previuos_case = current_case\n",
        "  newcase.append(newcase_count)\n",
        "  # print(newcase_count)"
      ],
      "execution_count": null,
      "outputs": []
    },
    {
      "cell_type": "code",
      "metadata": {
        "id": "yKryzOu25uDi",
        "colab": {
          "base_uri": "https://localhost:8080/"
        },
        "outputId": "7bae4e1b-999a-4ecb-b507-ea142bf756c2"
      },
      "source": [
        "ny_df['new_cases'] = newcase"
      ],
      "execution_count": null,
      "outputs": [
        {
          "output_type": "stream",
          "name": "stderr",
          "text": [
            "/usr/local/lib/python3.7/dist-packages/ipykernel_launcher.py:1: SettingWithCopyWarning: \n",
            "A value is trying to be set on a copy of a slice from a DataFrame.\n",
            "Try using .loc[row_indexer,col_indexer] = value instead\n",
            "\n",
            "See the caveats in the documentation: https://pandas.pydata.org/pandas-docs/stable/user_guide/indexing.html#returning-a-view-versus-a-copy\n",
            "  \"\"\"Entry point for launching an IPython kernel.\n"
          ]
        }
      ]
    },
    {
      "cell_type": "code",
      "source": [
        "newcase"
      ],
      "metadata": {
        "colab": {
          "base_uri": "https://localhost:8080/"
        },
        "id": "NX2rW7rab_GK",
        "outputId": "73027029-2e03-414e-8b5c-92b8696beca6"
      },
      "execution_count": null,
      "outputs": [
        {
          "output_type": "execute_result",
          "data": {
            "text/plain": [
              "[1,\n",
              " 0,\n",
              " 1,\n",
              " 9,\n",
              " 11,\n",
              " 22,\n",
              " 45,\n",
              " 17,\n",
              " 36,\n",
              " 31,\n",
              " 44,\n",
              " 109,\n",
              " 95,\n",
              " 189,\n",
              " 122,\n",
              " 218,\n",
              " 425,\n",
              " 1012,\n",
              " 1774,\n",
              " 2952,\n",
              " 3258,\n",
              " 4817,\n",
              " 5711,\n",
              " 4805,\n",
              " 7413,\n",
              " 5941,\n",
              " 5688,\n",
              " 8771,\n",
              " 6266,\n",
              " 7721,\n",
              " 8707,\n",
              " 8153,\n",
              " 8996,\n",
              " 10329,\n",
              " 12274,\n",
              " 8122,\n",
              " 9304,\n",
              " 8314,\n",
              " 9568,\n",
              " 10765,\n",
              " 10794,\n",
              " 10160,\n",
              " 8435,\n",
              " 6548,\n",
              " 7402,\n",
              " 11755,\n",
              " 8631,\n",
              " 7532,\n",
              " 7249,\n",
              " 6199,\n",
              " 4867,\n",
              " 4324,\n",
              " 5659,\n",
              " 6341,\n",
              " 8286,\n",
              " 10683,\n",
              " 6013,\n",
              " 4077,\n",
              " 3285,\n",
              " 4718,\n",
              " 4702,\n",
              " 3879,\n",
              " 4559,\n",
              " 3699,\n",
              " 2524,\n",
              " 2302,\n",
              " 2746,\n",
              " 3526,\n",
              " 2873,\n",
              " 2715,\n",
              " 2138,\n",
              " 1610,\n",
              " 1438,\n",
              " 2123,\n",
              " 2364,\n",
              " 2759,\n",
              " 2185,\n",
              " 1901,\n",
              " 1241,\n",
              " 1479,\n",
              " 1478,\n",
              " 2078,\n",
              " 1678,\n",
              " 1754,\n",
              " 1601,\n",
              " 1279,\n",
              " 1044,\n",
              " 1132,\n",
              " 1758,\n",
              " 1549,\n",
              " 1363,\n",
              " 1104,\n",
              " 945,\n",
              " 1361,\n",
              " 1043,\n",
              " 1053,\n",
              " 1042,\n",
              " 1083,\n",
              " 777,\n",
              " 712,\n",
              " 690,\n",
              " 664,\n",
              " 724,\n",
              " 821,\n",
              " 912,\n",
              " 694,\n",
              " 623,\n",
              " 630,\n",
              " 561,\n",
              " 626,\n",
              " 794,\n",
              " 707,\n",
              " 665,\n",
              " 555,\n",
              " 598,\n",
              " 575,\n",
              " 738,\n",
              " 804,\n",
              " 697,\n",
              " 624,\n",
              " 391,\n",
              " 458,\n",
              " 628,\n",
              " 872,\n",
              " 919,\n",
              " 725,\n",
              " 536,\n",
              " 516,\n",
              " 590,\n",
              " 691,\n",
              " 588,\n",
              " 790,\n",
              " 727,\n",
              " 679,\n",
              " 559,\n",
              " 913,\n",
              " 834,\n",
              " 767,\n",
              " 778,\n",
              " 752,\n",
              " 509,\n",
              " 519,\n",
              " 855,\n",
              " 706,\n",
              " 810,\n",
              " 758,\n",
              " 748,\n",
              " 532,\n",
              " 613,\n",
              " 535,\n",
              " 711,\n",
              " 779,\n",
              " 642,\n",
              " 754,\n",
              " 531,\n",
              " 542,\n",
              " 746,\n",
              " 639,\n",
              " 694,\n",
              " 720,\n",
              " 706,\n",
              " 513,\n",
              " 478,\n",
              " 667,\n",
              " 706,\n",
              " 736,\n",
              " 724,\n",
              " 738,\n",
              " 609,\n",
              " 410,\n",
              " 662,\n",
              " 626,\n",
              " 599,\n",
              " 707,\n",
              " 651,\n",
              " 581,\n",
              " 404,\n",
              " 629,\n",
              " 568,\n",
              " 789,\n",
              " 635,\n",
              " 635,\n",
              " 709,\n",
              " 649,\n",
              " 757,\n",
              " 710,\n",
              " 888,\n",
              " 863,\n",
              " 799,\n",
              " 729,\n",
              " 525,\n",
              " 557,\n",
              " 573,\n",
              " 756,\n",
              " 861,\n",
              " 849,\n",
              " 725,\n",
              " 586,\n",
              " 767,\n",
              " 653,\n",
              " 893,\n",
              " 793,\n",
              " 983,\n",
              " 865,\n",
              " 575,\n",
              " 751,\n",
              " 666,\n",
              " 953,\n",
              " 909,\n",
              " 1006,\n",
              " 868,\n",
              " 836,\n",
              " 1188,\n",
              " 1005,\n",
              " 1383,\n",
              " 1601,\n",
              " 1728,\n",
              " 1226,\n",
              " 937,\n",
              " 1394,\n",
              " 1356,\n",
              " 1835,\n",
              " 1593,\n",
              " 1448,\n",
              " 1143,\n",
              " 1032,\n",
              " 1391,\n",
              " 1235,\n",
              " 1464,\n",
              " 1703,\n",
              " 1788,\n",
              " 1390,\n",
              " 999,\n",
              " 1201,\n",
              " 2029,\n",
              " 1629,\n",
              " 1636,\n",
              " 2058,\n",
              " 1633,\n",
              " 1192,\n",
              " 1994,\n",
              " 2029,\n",
              " 2497,\n",
              " 2258,\n",
              " 2052,\n",
              " 2259,\n",
              " 1632,\n",
              " 2317,\n",
              " 2126,\n",
              " 3002,\n",
              " 3208,\n",
              " 3587,\n",
              " 3430,\n",
              " 3149,\n",
              " 3964,\n",
              " 4821,\n",
              " 4798,\n",
              " 5401,\n",
              " 5391,\n",
              " 3644,\n",
              " 3498,\n",
              " 5094,\n",
              " 5282,\n",
              " 5302,\n",
              " 5477,\n",
              " 5976,\n",
              " 5386,\n",
              " 5911,\n",
              " 4878,\n",
              " 6267,\n",
              " 6938,\n",
              " 8179,\n",
              " 6060,\n",
              " 6732,\n",
              " 6816,\n",
              " 7293,\n",
              " 8975,\n",
              " 9853,\n",
              " 11274,\n",
              " 10759,\n",
              " 9710,\n",
              " 8379,\n",
              " 9019,\n",
              " 10937,\n",
              " 10257,\n",
              " 10561,\n",
              " 11039,\n",
              " 10027,\n",
              " 8984,\n",
              " 9736,\n",
              " 9378,\n",
              " 10498,\n",
              " 12606,\n",
              " 9913,\n",
              " 9454,\n",
              " 9456,\n",
              " 10299,\n",
              " 11740,\n",
              " 13347,\n",
              " 12881,\n",
              " 11048,\n",
              " 8205,\n",
              " 10334,\n",
              " 12020,\n",
              " 12917,\n",
              " 15393,\n",
              " 17033,\n",
              " 15849,\n",
              " 12232,\n",
              " 11242,\n",
              " 13142,\n",
              " 16016,\n",
              " 17588,\n",
              " 19560,\n",
              " 17839,\n",
              " 16308,\n",
              " 14179,\n",
              " 14791,\n",
              " 14704,\n",
              " 14187,\n",
              " 19469,\n",
              " 15945,\n",
              " 13694,\n",
              " 13410,\n",
              " 12721,\n",
              " 11119,\n",
              " 13908,\n",
              " 15684,\n",
              " 13909,\n",
              " 12383,\n",
              " 11972,\n",
              " 11040,\n",
              " 10365,\n",
              " 13783,\n",
              " 12951,\n",
              " 12892,\n",
              " 11209,\n",
              " 8932,\n",
              " 7949,\n",
              " 7154,\n",
              " 6970,\n",
              " 7897,\n",
              " 11492,\n",
              " 9923,\n",
              " 8972,\n",
              " 8279,\n",
              " 6584,\n",
              " 10011,\n",
              " 8715,\n",
              " 8755,\n",
              " 8330,\n",
              " 6538,\n",
              " 6709,\n",
              " 5925,\n",
              " 9582,\n",
              " 8573,\n",
              " 8238,\n",
              " 6237,\n",
              " 6297,\n",
              " 6923,\n",
              " 6139,\n",
              " 8893,\n",
              " 8074,\n",
              " 8042,\n",
              " 7827,\n",
              " 6436,\n",
              " 6381,\n",
              " 6564,\n",
              " 7468,\n",
              " 8151,\n",
              " 8126,\n",
              " 7658,\n",
              " 5440,\n",
              " 6833,\n",
              " 6106,\n",
              " 7169,\n",
              " 8444,\n",
              " 6033,\n",
              " 6687,\n",
              " 7119,\n",
              " 6711,\n",
              " 6582,\n",
              " 5515,\n",
              " 5077,\n",
              " 6667,\n",
              " 3735,\n",
              " 4908,\n",
              " 6801,\n",
              " 20184,\n",
              " 8683,\n",
              " 8003,\n",
              " 8733,\n",
              " 8852,\n",
              " 8972,\n",
              " 5750,\n",
              " 7683,\n",
              " 9173,\n",
              " 8055,\n",
              " 7711,\n",
              " 7607,\n",
              " 6717,\n",
              " 6106,\n",
              " 6450,\n",
              " 8731,\n",
              " 8558,\n",
              " 7529,\n",
              " 6577,\n",
              " 5758,\n",
              " 5043,\n",
              " 6000,\n",
              " 6984,\n",
              " 6290,\n",
              " 6387,\n",
              " 5605,\n",
              " 5177,\n",
              " 4659,\n",
              " 4255,\n",
              " 5277,\n",
              " 4850,\n",
              " 4163,\n",
              " 4050,\n",
              " 3018,\n",
              " 3343,\n",
              " 3000,\n",
              " 3862,\n",
              " 3792,\n",
              " 3852,\n",
              " 2853,\n",
              " 2440,\n",
              " 2234,\n",
              " 2374,\n",
              " 2632,\n",
              " 2465,\n",
              " 3028,\n",
              " 2403,\n",
              " 1661,\n",
              " 1449,\n",
              " 2044,\n",
              " 2204,\n",
              " 2039,\n",
              " 1761,\n",
              " 1888,\n",
              " 1379,\n",
              " 1549,\n",
              " 1323,\n",
              " 1647,\n",
              " 1595,\n",
              " 1313,\n",
              " 1074,\n",
              " 964,\n",
              " 945,\n",
              " 882,\n",
              " 1145,\n",
              " 930,\n",
              " 866,\n",
              " 848,\n",
              " 524,\n",
              " 478,\n",
              " 403,\n",
              " 489,\n",
              " 757,\n",
              " 852,\n",
              " 491,\n",
              " 519,\n",
              " 459,\n",
              " 426,\n",
              " 549,\n",
              " 686,\n",
              " 430,\n",
              " 363,\n",
              " 377,\n",
              " 337,\n",
              " 286,\n",
              " 443,\n",
              " 415,\n",
              " 389,\n",
              " 287,\n",
              " 277,\n",
              " 266,\n",
              " 250,\n",
              " 383,\n",
              " 343,\n",
              " 345,\n",
              " 374,\n",
              " 321,\n",
              " 244,\n",
              " 275,\n",
              " 397,\n",
              " 474,\n",
              " 279,\n",
              " 312,\n",
              " 376,\n",
              " 307,\n",
              " 341,\n",
              " 637,\n",
              " 754,\n",
              " 730,\n",
              " 811,\n",
              " 642,\n",
              " 668,\n",
              " 725,\n",
              " 929,\n",
              " 629,\n",
              " 1421,\n",
              " 1143,\n",
              " 941,\n",
              " 1112,\n",
              " 1092,\n",
              " 1611,\n",
              " 1698,\n",
              " 1868,\n",
              " 2032,\n",
              " 1526,\n",
              " 1648,\n",
              " 1800,\n",
              " 2644,\n",
              " 2615,\n",
              " 3136,\n",
              " 2590,\n",
              " 2208,\n",
              " 3062,\n",
              " 2834,\n",
              " 3442,\n",
              " 3760,\n",
              " 4537,\n",
              " 3637,\n",
              " 1681,\n",
              " 1722,\n",
              " 7224,\n",
              " 4870,\n",
              " 4634,\n",
              " 4675,\n",
              " 4038,\n",
              " 4208,\n",
              " 3528,\n",
              " 4508,\n",
              " 5070,\n",
              " 3906,\n",
              " 6175,\n",
              " 4593,\n",
              " 3836,\n",
              " 3494,\n",
              " 3731,\n",
              " 5371,\n",
              " 6364,\n",
              " 5583,\n",
              " 2636,\n",
              " 5972,\n",
              " 3894,\n",
              " 4126,\n",
              " 5289,\n",
              " 5919,\n",
              " 3374,\n",
              " 6501,\n",
              " 3689,\n",
              " 3256,\n",
              " 2455,\n",
              " 6454,\n",
              " 5883,\n",
              " 6060,\n",
              " 3735,\n",
              " 5408,\n",
              " 4113,\n",
              " 4808,\n",
              " 6730,\n",
              " 6038,\n",
              " 3286,\n",
              " 7724,\n",
              " 3757,\n",
              " 5331,\n",
              " 4534,\n",
              " 5037,\n",
              " 6145,\n",
              " 3798,\n",
              " 6788,\n",
              " 2826,\n",
              " 5248,\n",
              " 5016,\n",
              " 4979,\n",
              " 5818,\n",
              " 3336,\n",
              " 3396,\n",
              " 6260,\n",
              " 3924,\n",
              " 6275,\n",
              " 5602,\n",
              " 5833,\n",
              " 3539,\n",
              " 2077,\n",
              " 7882,\n",
              " 3253,\n",
              " 4524,\n",
              " 4514,\n",
              " 6342,\n",
              " 4018,\n",
              " 3149,\n",
              " 5389,\n",
              " 3294,\n",
              " 4777,\n",
              " 4365,\n",
              " 3700,\n",
              " 3464,\n",
              " 2152,\n",
              " 5021,\n",
              " 2496,\n",
              " 4141,\n",
              " 3199,\n",
              " 5734,\n",
              " 3127,\n",
              " 2794,\n",
              " 5695,\n",
              " 2911,\n",
              " 4014,\n",
              " 4631,\n",
              " 4859,\n",
              " 3851,\n",
              " 3715,\n",
              " 5754,\n",
              " 4211,\n",
              " 5039,\n",
              " 6683,\n",
              " 6256,\n",
              " 5095,\n",
              " 4196,\n",
              " 7152,\n",
              " 5061,\n",
              " 6028,\n",
              " 8115,\n",
              " 7592,\n",
              " 5556,\n",
              " 8805,\n",
              " 5316,\n",
              " 5619,\n",
              " 7013,\n",
              " 6762,\n",
              " 8200,\n",
              " 3247,\n",
              " 4506,\n",
              " 8156,\n",
              " 6644,\n",
              " 9320,\n",
              " 11331,\n",
              " 11242,\n",
              " 7642,\n",
              " 7830,\n",
              " 11529,\n",
              " 8537,\n",
              " 9251,\n",
              " 11680,\n",
              " 11314,\n",
              " 7872,\n",
              " 7284,\n",
              " 15069,\n",
              " 8931,\n",
              " 12383,\n",
              " 17520,\n",
              " 20563,\n",
              " 10319,\n",
              " 28260,\n",
              " 20439,\n",
              " 26456,\n",
              " 28460,\n",
              " 33855,\n",
              " 32591,\n",
              " 0,\n",
              " 86162,\n",
              " 30441,\n",
              " 48836,\n",
              " 60359,\n",
              " 71078,\n",
              " 78804,\n",
              " 81077,\n",
              " 62542,\n",
              " 60453,\n",
              " 51289,\n",
              " 75149,\n",
              " 80378,\n",
              " 82094,\n",
              " 90132,\n",
              " 79777,\n",
              " 57884,\n",
              " 49410,\n",
              " 54911,\n",
              " 62049,\n",
              " 47352,\n",
              " 47870,\n",
              " 51264,\n",
              " 26772,\n",
              " 22312,\n",
              " 23375,\n",
              " 30631,\n",
              " 28296,\n",
              " 27643,\n",
              " 19539,\n",
              " 12666,\n",
              " 15868,\n",
              " 15648,\n",
              " 17164,\n",
              " 14075,\n",
              " 12533,\n",
              " 5731,\n",
              " 9678,\n",
              " 6468,\n",
              " 8328,\n",
              " 10306,\n",
              " 7716,\n",
              " 4668,\n",
              " 8484,\n",
              " 4028,\n",
              " 4189,\n",
              " 5971,\n",
              " 7435,\n",
              " 4820,\n",
              " 2858,\n",
              " 5341,\n",
              " 2597,\n",
              " 2290,\n",
              " 3099,\n",
              " 3718,\n",
              " 4868,\n",
              " 2086,\n",
              " 1641,\n",
              " 3793,\n",
              " 1623,\n",
              " 2199,\n",
              " 2665,\n",
              " 2409,\n",
              " 1442,\n",
              " 2655,\n",
              " 1266,\n",
              " 1276,\n",
              " 1676,\n",
              " 2423,\n",
              " 767,\n",
              " 2559,\n",
              " 2985,\n",
              " 1091,\n",
              " 1033,\n",
              " 1621,\n",
              " 1754,\n",
              " 2296,\n",
              " 1004,\n",
              " 2678,\n",
              " 1084,\n",
              " 2498,\n",
              " 2124,\n",
              " 2391,\n",
              " 2125,\n",
              " 1601,\n",
              " 3335,\n",
              " 1344,\n",
              " 1356,\n",
              " 3556,\n",
              " 3694,\n",
              " 3380,\n",
              " 1759,\n",
              " 4357,\n",
              " 2327,\n",
              " 2316,\n",
              " 3059,\n",
              " 4911,\n",
              " 3889,\n",
              " 2377,\n",
              " 2008,\n",
              " 6393,\n",
              " 2586,\n",
              " 3516,\n",
              " 6165,\n",
              " 5735,\n",
              " 3263,\n",
              " 3406,\n",
              " 9374,\n",
              " 3508,\n",
              " 5550,\n",
              " 7434,\n",
              " 6886,\n",
              " 4265,\n",
              " 3352,\n",
              " 10365,\n",
              " 4662,\n",
              " 6899,\n",
              " 7123,\n",
              " 8460,\n",
              " 4086,\n",
              " 4205,\n",
              " 9778,\n",
              " 4802,\n",
              " 7269,\n",
              " 9852,\n",
              " 8803,\n",
              " 5307,\n",
              " 4521,\n",
              " 11699,\n",
              " 6074,\n",
              " 8335,\n",
              " 10740,\n",
              " 11136,\n",
              " 6442,\n",
              " 6400,\n",
              " 17094,\n",
              " 6662,\n",
              " 9345,\n",
              " 13988,\n",
              " 11843,\n",
              " 6362,\n",
              " 5348,\n",
              " 15717,\n",
              " 8084,\n",
              " 10747,\n",
              " 11870,\n",
              " 10796,\n",
              " 0,\n",
              " 9314,\n",
              " 16666,\n",
              " 6680,\n",
              " 8147,\n",
              " 10305,\n",
              " 9825,\n",
              " 0,\n",
              " 0,\n",
              " 0,\n",
              " 23941,\n",
              " 5607,\n",
              " 6025,\n",
              " 8552,\n",
              " 3401,\n",
              " 2621,\n",
              " 12377,\n",
              " 4795,\n",
              " 7066,\n",
              " 6708,\n",
              " 2615,\n",
              " 2403,\n",
              " 1954,\n",
              " 14506,\n",
              " 3793,\n",
              " 4643,\n",
              " 6197,\n",
              " 5654,\n",
              " 2392,\n",
              " 1833,\n",
              " 1447,\n",
              " 12997,\n",
              " 4135,\n",
              " 5809,\n",
              " 7291,\n",
              " 2403,\n",
              " 2075,\n",
              " 12326,\n",
              " 4335,\n",
              " 5254,\n",
              " 7381,\n",
              " 7532,\n",
              " 2935,\n",
              " 2197,\n",
              " 1829,\n",
              " 16154,\n",
              " 4767,\n",
              " 5873,\n",
              " 9314,\n",
              " 3128,\n",
              " 2509,\n",
              " 15227,\n",
              " 7787,\n",
              " 6009,\n",
              " 9761,\n",
              " 8562,\n",
              " 3185,\n",
              " 2647,\n",
              " 16035,\n",
              " 5316,\n",
              " 7971,\n",
              " 8972,\n",
              " 8385,\n",
              " 3159,\n",
              " 2682,\n",
              " 14803,\n",
              " 5309,\n",
              " 6506,\n",
              " 8268,\n",
              " 3209,\n",
              " 3022,\n",
              " 2657,\n",
              " 18457]"
            ]
          },
          "metadata": {},
          "execution_count": 22
        }
      ]
    },
    {
      "cell_type": "code",
      "metadata": {
        "id": "xSjQW7Gm8_cO",
        "colab": {
          "base_uri": "https://localhost:8080/",
          "height": 363
        },
        "outputId": "a1652767-2d9a-49f0-8cec-5a993f64c936"
      },
      "source": [
        "ny_df.head(10)"
      ],
      "execution_count": null,
      "outputs": [
        {
          "output_type": "execute_result",
          "data": {
            "text/plain": [
              "           date     state  fips  cases  deaths  new_cases\n",
              "246  2020-03-01  New York    36      1       0          1\n",
              "261  2020-03-02  New York    36      1       0          0\n",
              "276  2020-03-03  New York    36      2       0          1\n",
              "293  2020-03-04  New York    36     11       0          9\n",
              "313  2020-03-05  New York    36     22       0         11\n",
              "338  2020-03-06  New York    36     44       0         22\n",
              "369  2020-03-07  New York    36     89       0         45\n",
              "404  2020-03-08  New York    36    106       0         17\n",
              "440  2020-03-09  New York    36    142       0         36\n",
              "478  2020-03-10  New York    36    173       0         31"
            ],
            "text/html": [
              "\n",
              "  <div id=\"df-24e945c0-9c8e-48e1-b8ff-4d01b82b9e76\">\n",
              "    <div class=\"colab-df-container\">\n",
              "      <div>\n",
              "<style scoped>\n",
              "    .dataframe tbody tr th:only-of-type {\n",
              "        vertical-align: middle;\n",
              "    }\n",
              "\n",
              "    .dataframe tbody tr th {\n",
              "        vertical-align: top;\n",
              "    }\n",
              "\n",
              "    .dataframe thead th {\n",
              "        text-align: right;\n",
              "    }\n",
              "</style>\n",
              "<table border=\"1\" class=\"dataframe\">\n",
              "  <thead>\n",
              "    <tr style=\"text-align: right;\">\n",
              "      <th></th>\n",
              "      <th>date</th>\n",
              "      <th>state</th>\n",
              "      <th>fips</th>\n",
              "      <th>cases</th>\n",
              "      <th>deaths</th>\n",
              "      <th>new_cases</th>\n",
              "    </tr>\n",
              "  </thead>\n",
              "  <tbody>\n",
              "    <tr>\n",
              "      <th>246</th>\n",
              "      <td>2020-03-01</td>\n",
              "      <td>New York</td>\n",
              "      <td>36</td>\n",
              "      <td>1</td>\n",
              "      <td>0</td>\n",
              "      <td>1</td>\n",
              "    </tr>\n",
              "    <tr>\n",
              "      <th>261</th>\n",
              "      <td>2020-03-02</td>\n",
              "      <td>New York</td>\n",
              "      <td>36</td>\n",
              "      <td>1</td>\n",
              "      <td>0</td>\n",
              "      <td>0</td>\n",
              "    </tr>\n",
              "    <tr>\n",
              "      <th>276</th>\n",
              "      <td>2020-03-03</td>\n",
              "      <td>New York</td>\n",
              "      <td>36</td>\n",
              "      <td>2</td>\n",
              "      <td>0</td>\n",
              "      <td>1</td>\n",
              "    </tr>\n",
              "    <tr>\n",
              "      <th>293</th>\n",
              "      <td>2020-03-04</td>\n",
              "      <td>New York</td>\n",
              "      <td>36</td>\n",
              "      <td>11</td>\n",
              "      <td>0</td>\n",
              "      <td>9</td>\n",
              "    </tr>\n",
              "    <tr>\n",
              "      <th>313</th>\n",
              "      <td>2020-03-05</td>\n",
              "      <td>New York</td>\n",
              "      <td>36</td>\n",
              "      <td>22</td>\n",
              "      <td>0</td>\n",
              "      <td>11</td>\n",
              "    </tr>\n",
              "    <tr>\n",
              "      <th>338</th>\n",
              "      <td>2020-03-06</td>\n",
              "      <td>New York</td>\n",
              "      <td>36</td>\n",
              "      <td>44</td>\n",
              "      <td>0</td>\n",
              "      <td>22</td>\n",
              "    </tr>\n",
              "    <tr>\n",
              "      <th>369</th>\n",
              "      <td>2020-03-07</td>\n",
              "      <td>New York</td>\n",
              "      <td>36</td>\n",
              "      <td>89</td>\n",
              "      <td>0</td>\n",
              "      <td>45</td>\n",
              "    </tr>\n",
              "    <tr>\n",
              "      <th>404</th>\n",
              "      <td>2020-03-08</td>\n",
              "      <td>New York</td>\n",
              "      <td>36</td>\n",
              "      <td>106</td>\n",
              "      <td>0</td>\n",
              "      <td>17</td>\n",
              "    </tr>\n",
              "    <tr>\n",
              "      <th>440</th>\n",
              "      <td>2020-03-09</td>\n",
              "      <td>New York</td>\n",
              "      <td>36</td>\n",
              "      <td>142</td>\n",
              "      <td>0</td>\n",
              "      <td>36</td>\n",
              "    </tr>\n",
              "    <tr>\n",
              "      <th>478</th>\n",
              "      <td>2020-03-10</td>\n",
              "      <td>New York</td>\n",
              "      <td>36</td>\n",
              "      <td>173</td>\n",
              "      <td>0</td>\n",
              "      <td>31</td>\n",
              "    </tr>\n",
              "  </tbody>\n",
              "</table>\n",
              "</div>\n",
              "      <button class=\"colab-df-convert\" onclick=\"convertToInteractive('df-24e945c0-9c8e-48e1-b8ff-4d01b82b9e76')\"\n",
              "              title=\"Convert this dataframe to an interactive table.\"\n",
              "              style=\"display:none;\">\n",
              "        \n",
              "  <svg xmlns=\"http://www.w3.org/2000/svg\" height=\"24px\"viewBox=\"0 0 24 24\"\n",
              "       width=\"24px\">\n",
              "    <path d=\"M0 0h24v24H0V0z\" fill=\"none\"/>\n",
              "    <path d=\"M18.56 5.44l.94 2.06.94-2.06 2.06-.94-2.06-.94-.94-2.06-.94 2.06-2.06.94zm-11 1L8.5 8.5l.94-2.06 2.06-.94-2.06-.94L8.5 2.5l-.94 2.06-2.06.94zm10 10l.94 2.06.94-2.06 2.06-.94-2.06-.94-.94-2.06-.94 2.06-2.06.94z\"/><path d=\"M17.41 7.96l-1.37-1.37c-.4-.4-.92-.59-1.43-.59-.52 0-1.04.2-1.43.59L10.3 9.45l-7.72 7.72c-.78.78-.78 2.05 0 2.83L4 21.41c.39.39.9.59 1.41.59.51 0 1.02-.2 1.41-.59l7.78-7.78 2.81-2.81c.8-.78.8-2.07 0-2.86zM5.41 20L4 18.59l7.72-7.72 1.47 1.35L5.41 20z\"/>\n",
              "  </svg>\n",
              "      </button>\n",
              "      \n",
              "  <style>\n",
              "    .colab-df-container {\n",
              "      display:flex;\n",
              "      flex-wrap:wrap;\n",
              "      gap: 12px;\n",
              "    }\n",
              "\n",
              "    .colab-df-convert {\n",
              "      background-color: #E8F0FE;\n",
              "      border: none;\n",
              "      border-radius: 50%;\n",
              "      cursor: pointer;\n",
              "      display: none;\n",
              "      fill: #1967D2;\n",
              "      height: 32px;\n",
              "      padding: 0 0 0 0;\n",
              "      width: 32px;\n",
              "    }\n",
              "\n",
              "    .colab-df-convert:hover {\n",
              "      background-color: #E2EBFA;\n",
              "      box-shadow: 0px 1px 2px rgba(60, 64, 67, 0.3), 0px 1px 3px 1px rgba(60, 64, 67, 0.15);\n",
              "      fill: #174EA6;\n",
              "    }\n",
              "\n",
              "    [theme=dark] .colab-df-convert {\n",
              "      background-color: #3B4455;\n",
              "      fill: #D2E3FC;\n",
              "    }\n",
              "\n",
              "    [theme=dark] .colab-df-convert:hover {\n",
              "      background-color: #434B5C;\n",
              "      box-shadow: 0px 1px 3px 1px rgba(0, 0, 0, 0.15);\n",
              "      filter: drop-shadow(0px 1px 2px rgba(0, 0, 0, 0.3));\n",
              "      fill: #FFFFFF;\n",
              "    }\n",
              "  </style>\n",
              "\n",
              "      <script>\n",
              "        const buttonEl =\n",
              "          document.querySelector('#df-24e945c0-9c8e-48e1-b8ff-4d01b82b9e76 button.colab-df-convert');\n",
              "        buttonEl.style.display =\n",
              "          google.colab.kernel.accessAllowed ? 'block' : 'none';\n",
              "\n",
              "        async function convertToInteractive(key) {\n",
              "          const element = document.querySelector('#df-24e945c0-9c8e-48e1-b8ff-4d01b82b9e76');\n",
              "          const dataTable =\n",
              "            await google.colab.kernel.invokeFunction('convertToInteractive',\n",
              "                                                     [key], {});\n",
              "          if (!dataTable) return;\n",
              "\n",
              "          const docLinkHtml = 'Like what you see? Visit the ' +\n",
              "            '<a target=\"_blank\" href=https://colab.research.google.com/notebooks/data_table.ipynb>data table notebook</a>'\n",
              "            + ' to learn more about interactive tables.';\n",
              "          element.innerHTML = '';\n",
              "          dataTable['output_type'] = 'display_data';\n",
              "          await google.colab.output.renderOutput(dataTable, element);\n",
              "          const docLink = document.createElement('div');\n",
              "          docLink.innerHTML = docLinkHtml;\n",
              "          element.appendChild(docLink);\n",
              "        }\n",
              "      </script>\n",
              "    </div>\n",
              "  </div>\n",
              "  "
            ]
          },
          "metadata": {},
          "execution_count": 23
        }
      ]
    },
    {
      "cell_type": "code",
      "metadata": {
        "id": "PK0Tq2qs-JTJ",
        "colab": {
          "base_uri": "https://localhost:8080/"
        },
        "outputId": "40cb559c-2a17-4af5-f7fa-fbc7149aac90"
      },
      "source": [
        "ny_df['new_cases'].sum()"
      ],
      "execution_count": null,
      "outputs": [
        {
          "output_type": "execute_result",
          "data": {
            "text/plain": [
              "5821036"
            ]
          },
          "metadata": {},
          "execution_count": 24
        }
      ]
    },
    {
      "cell_type": "code",
      "metadata": {
        "id": "CvPTpg6T-p15"
      },
      "source": [
        "ny_cases = ny_df['cases']\n",
        "ny_deaths = ny_df['deaths']\n",
        "ny_dates = ny_df['date']\n",
        "ny_new_cases = ny_df['new_cases']"
      ],
      "execution_count": null,
      "outputs": []
    },
    {
      "cell_type": "code",
      "metadata": {
        "id": "g14xWA8g_6nZ",
        "colab": {
          "base_uri": "https://localhost:8080/"
        },
        "outputId": "9dfdad0e-9c45-4e94-ee78-ed766f3434a9"
      },
      "source": [
        "type(ny_new_cases)"
      ],
      "execution_count": null,
      "outputs": [
        {
          "output_type": "execute_result",
          "data": {
            "text/plain": [
              "pandas.core.series.Series"
            ]
          },
          "metadata": {},
          "execution_count": 26
        }
      ]
    },
    {
      "cell_type": "code",
      "metadata": {
        "id": "QDc2omEP_-qS",
        "colab": {
          "base_uri": "https://localhost:8080/",
          "height": 315
        },
        "outputId": "8bd1c017-35b2-4ed6-84e2-a3d19783f0df"
      },
      "source": [
        "ny_df.plot(kind='bar')"
      ],
      "execution_count": null,
      "outputs": [
        {
          "output_type": "execute_result",
          "data": {
            "text/plain": [
              "<matplotlib.axes._subplots.AxesSubplot at 0x7ff713c19610>"
            ]
          },
          "metadata": {},
          "execution_count": 27
        },
        {
          "output_type": "display_data",
          "data": {
            "text/plain": [
              "<Figure size 432x288 with 1 Axes>"
            ],
            "image/png": "[encoded data removed]"
          },
          "metadata": {
            "needs_background": "light"
          }
        }
      ]
    },
    {
      "cell_type": "code",
      "source": [
        "# load packages\n",
        "import pandas as pd\n",
        "import numpy as np\n",
        "import matplotlib.pyplot as plt\n",
        "%matplotlib inline\n",
        "import seaborn as sns\n",
        "sns.set()\n",
        "sns.displot(ny_df, x=\"deaths\")"
      ],
      "metadata": {
        "colab": {
          "base_uri": "https://localhost:8080/",
          "height": 382
        },
        "id": "pPXwzk2mZ4EQ",
        "outputId": "99d811c1-a88c-4eb2-bb3e-e7f0e694940d"
      },
      "execution_count": null,
      "outputs": [
        {
          "output_type": "execute_result",
          "data": {
            "text/plain": [
              "<seaborn.axisgrid.FacetGrid at 0x7ff7133cb510>"
            ]
          },
          "metadata": {},
          "execution_count": 28
        },
        {
          "output_type": "display_data",
          "data": {
            "text/plain": [
              "<Figure size 360x360 with 1 Axes>"
            ],
            "image/png": "[encoded data removed]"
          },
          "metadata": {}
        }
      ]
    },
    {
      "cell_type": "code",
      "metadata": {
        "id": "-PtteplsAWT-",
        "colab": {
          "base_uri": "https://localhost:8080/",
          "height": 485
        },
        "outputId": "e114529a-0b75-4ce9-cf5a-edb5fbb7d424"
      },
      "source": [
        "plt.figure(figsize=(15,7))\n",
        "plt.bar(x=ny_dates, height=ny_new_cases, color='red')\n",
        "plt.xticks(rotation=90)\n",
        "plt.show()"
      ],
      "execution_count": null,
      "outputs": [
        {
          "output_type": "display_data",
          "data": {
            "text/plain": [
              "<Figure size 1080x504 with 1 Axes>"
            ],
            "image/png": "[encoded data removed]"
          },
          "metadata": {}
        }
      ]
    },
    {
      "cell_type": "markdown",
      "metadata": {
        "id": "IKuLfv3SF27O"
      },
      "source": [
        "# Task4: Understand NY covid 19 data in last 30 days"
      ]
    },
    {
      "cell_type": "code",
      "metadata": {
        "id": "280y4sHrAyuk"
      },
      "source": [
        "ny_cases_30 = ny_df['cases'][-31:-1]\n",
        "ny_deaths_30 = ny_df['deaths'] [-31:-1]\n",
        "ny_dates_30 = ny_df['date'][-31:-1]\n",
        "ny_new_cases_30 = ny_df['new_cases'][-31:-1]"
      ],
      "execution_count": null,
      "outputs": []
    },
    {
      "cell_type": "code",
      "metadata": {
        "id": "BUDcyVRwHY6F"
      },
      "source": [
        "# ny_dates_30"
      ],
      "execution_count": null,
      "outputs": []
    },
    {
      "cell_type": "code",
      "metadata": {
        "id": "MrRo6IcSHa6F",
        "colab": {
          "base_uri": "https://localhost:8080/",
          "height": 485
        },
        "outputId": "83385ea6-6863-460e-95aa-ee7ef7c1c275"
      },
      "source": [
        "plt.figure(figsize=(15,7))\n",
        "plt.bar(x=ny_dates_30, height=ny_new_cases_30, color=('red'))\n",
        "plt.xticks(rotation=90)\n",
        "plt.show()"
      ],
      "execution_count": null,
      "outputs": [
        {
          "output_type": "display_data",
          "data": {
            "text/plain": [
              "<Figure size 1080x504 with 1 Axes>"
            ],
            "image/png": "[encoded data removed]"
          },
          "metadata": {}
        }
      ]
    },
    {
      "cell_type": "code",
      "metadata": {
        "id": "TG0hPnVKm0E0",
        "colab": {
          "base_uri": "https://localhost:8080/",
          "height": 485
        },
        "outputId": "e459b830-edf1-491b-aad0-50602408a785"
      },
      "source": [
        "plt.figure(figsize=(15,7))\n",
        "plt.bar(x=ny_dates_30, height=ny_deaths_30, color='blue')\n",
        "plt.xticks(rotation=90)\n",
        "plt.show()"
      ],
      "execution_count": null,
      "outputs": [
        {
          "output_type": "display_data",
          "data": {
            "text/plain": [
              "<Figure size 1080x504 with 1 Axes>"
            ],
            "image/png": "[encoded data removed]"
          },
          "metadata": {}
        }
      ]
    },
    {
      "cell_type": "markdown",
      "metadata": {
        "id": "PtjNZZmOdAhy"
      },
      "source": [
        "# Comparing Covid 19 data with different states"
      ]
    },
    {
      "cell_type": "markdown",
      "metadata": {
        "id": "HInHQMh0dHvu"
      },
      "source": [
        "Let's compare the Covid 19 cases after July for states: New York, California, Florida, Texas, Arizona"
      ]
    },
    {
      "cell_type": "code",
      "metadata": {
        "id": "vu_eV2RmHvyO"
      },
      "source": [
        "states = ['New York', 'California','Florida', 'Texas','Arizona']"
      ],
      "execution_count": null,
      "outputs": []
    },
    {
      "cell_type": "code",
      "metadata": {
        "id": "2xVCN1IBInu0",
        "colab": {
          "base_uri": "https://localhost:8080/",
          "height": 496
        },
        "outputId": "43eb665e-7add-468a-be93-bfe01c390fcc"
      },
      "source": [
        "plt.figure(figsize=(15,7))\n",
        "for state in states:\n",
        "  df_st = df[(df['state']==state) & (df['date']>='2020-11-01')]\n",
        "  plt.plot(df_st['date'],\n",
        "           df_st['cases'],\n",
        "           linewidth=2\n",
        "           )\n",
        "  plt.xticks(rotation=90)\n",
        "plt.legend(states)\n",
        "plt.show()\n"
      ],
      "execution_count": null,
      "outputs": [
        {
          "output_type": "display_data",
          "data": {
            "text/plain": [
              "<Figure size 1080x504 with 1 Axes>"
            ],
            "image/png": "[encoded data removed]"
          },
          "metadata": {}
        }
      ]
    },
    {
      "cell_type": "markdown",
      "metadata": {
        "id": "Hwch-J5PIHA1"
      },
      "source": [
        "# Conclusion"
      ]
    },
    {
      "cell_type": "markdown",
      "metadata": {
        "id": "q5G5KP6CINBS"
      },
      "source": [
        "Below are the conclusions:\n",
        "\n",
        "\n",
        "\n",
        "1.   Conclusion 1\n",
        "     All cases for the five boroughs of New York City (New York, Kings, Queens, Bronx, and Richmond counties) are assigned to a single area called New York City. The number of deaths in New York City also includes probable deaths reported by the New York City health department. Deaths are reported by county of residence, except for certain periods described below.\n",
        "2.   Conclusion 2\n",
        "    The Coronavirus Resource Center temporarily displayed an incorrect increase in COVID-19 deaths and cases in the United States on Tuesday, April 5, due to the misplacement of Kentucky’s weekly totals into the daily update. The number of COVID-19 cases for New York City appeared to spike on March 24, 2021, because the figure incorporated unreported data from the previous day from all five boroughs. The impacts of this surge can be felt across the country, from California, where known cases are higher than they have been in almost six months, to New York, where more people with Covid are hospitalized today than at the height of last year's Delta wave\n",
        "\n",
        "\n",
        "\n"
      ]
    },
    {
      "cell_type": "markdown",
      "source": [
        "New York City saw a percipitious increase in Covid cases with countless outlier days with extremly high covid contraction rates. On a national level, California had the highest rates of infection amongst its population, followed by New York. There were countless errors during collection of the data that may have swayed the data in certain directions. "
      ],
      "metadata": {
        "id": "4QiyrGHBb_MO"
      }
    }
  ]
}